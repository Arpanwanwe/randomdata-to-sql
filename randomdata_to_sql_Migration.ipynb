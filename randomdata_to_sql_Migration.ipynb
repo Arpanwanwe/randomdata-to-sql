{
 "cells": [
  {
   "cell_type": "code",
   "execution_count": 3,
   "id": "858aa8a7",
   "metadata": {
    "collapsed": true
   },
   "outputs": [
    {
     "name": "stdout",
     "output_type": "stream",
     "text": [
      "Requirement already satisfied: pandas in c:\\users\\arpan wanve\\anaconda3\\lib\\site-packages (2.0.3)Note: you may need to restart the kernel to use updated packages.\n",
      "\n",
      "Requirement already satisfied: sqlalchemy in c:\\users\\arpan wanve\\anaconda3\\lib\\site-packages (2.0.43)\n",
      "Requirement already satisfied: pymysql in c:\\users\\arpan wanve\\anaconda3\\lib\\site-packages (1.1.2)\n",
      "Requirement already satisfied: python-dateutil>=2.8.2 in c:\\users\\arpan wanve\\anaconda3\\lib\\site-packages (from pandas) (2.8.2)\n",
      "Requirement already satisfied: pytz>=2020.1 in c:\\users\\arpan wanve\\anaconda3\\lib\\site-packages (from pandas) (2023.3.post1)\n",
      "Requirement already satisfied: tzdata>=2022.1 in c:\\users\\arpan wanve\\anaconda3\\lib\\site-packages (from pandas) (2023.3)\n",
      "Requirement already satisfied: numpy>=1.21.0 in c:\\users\\arpan wanve\\anaconda3\\lib\\site-packages (from pandas) (1.24.3)\n",
      "Requirement already satisfied: greenlet>=1 in c:\\users\\arpan wanve\\anaconda3\\lib\\site-packages (from sqlalchemy) (2.0.1)\n",
      "Requirement already satisfied: typing-extensions>=4.6.0 in c:\\users\\arpan wanve\\anaconda3\\lib\\site-packages (from sqlalchemy) (4.7.1)\n",
      "Requirement already satisfied: six>=1.5 in c:\\users\\arpan wanve\\anaconda3\\lib\\site-packages (from python-dateutil>=2.8.2->pandas) (1.16.0)\n"
     ]
    }
   ],
   "source": [
    "pip install pandas sqlalchemy pymysql"
   ]
  },
  {
   "cell_type": "code",
   "execution_count": 4,
   "id": "f83a2f7a",
   "metadata": {},
   "outputs": [],
   "source": [
    "import os\n",
    "import pandas as pd\n",
    "from sqlalchemy import create_engine\n",
    "import pymysql\n",
    "import json"
   ]
  },
  {
   "cell_type": "code",
   "execution_count": 2,
   "id": "5ab2c3e9",
   "metadata": {},
   "outputs": [
    {
     "name": "stdout",
     "output_type": "stream",
     "text": [
      "Files extracted to: mixed_dataset\n"
     ]
    }
   ],
   "source": [
    "import zipfile\n",
    "\n",
    "zip_path = \"mixed_dataset.zip\"\n",
    "extract_path = \"mixed_dataset\"\n",
    "\n",
    "with zipfile.ZipFile(zip_path, 'r') as zip_ref:\n",
    "    zip_ref.extractall(extract_path)\n",
    "\n",
    "print(\"Files extracted to:\", extract_path)"
   ]
  },
  {
   "cell_type": "code",
   "execution_count": 9,
   "id": "955a1100",
   "metadata": {},
   "outputs": [
    {
     "name": "stdout",
     "output_type": "stream",
     "text": [
      "Connected to MySQL successfully.\n"
     ]
    }
   ],
   "source": [
    "from sqlalchemy import create_engine, text\n",
    "import urllib.parse\n",
    "\n",
    "username = \"noname\"\n",
    "password = urllib.parse.quote_plus(\"noname\")\n",
    "host = \"localhost\"\n",
    "database = \"noname\"\n",
    "\n",
    "engine = create_engine(f\"mysql+pymysql://{username}:{password}@{host}/{database}\")\n",
    "print(\"Connected to MySQL successfully.\")"
   ]
  },
  {
   "cell_type": "code",
   "execution_count": 19,
   "id": "25d329f9",
   "metadata": {
    "scrolled": false
   },
   "outputs": [
    {
     "ename": "OperationalError",
     "evalue": "(pymysql.err.OperationalError) (1054, \"Unknown column 'name' in 'field list'\")\n[SQL: INSERT INTO data_0 (id, name, email, age, balance, is_active, signup_date, last_login) VALUES (%(id)s, %(name)s, %(email)s, %(age)s, %(balance)s, %(is_active)s, %(signup_date)s, %(last_login)s)]\n[parameters: [{'id': 1, 'name': 'Amanda Aguilar', 'email': 'edward07@green.biz', 'age': 60.0, 'balance': 9126.82, 'is_active': 1, 'signup_date': '2021-11-04', 'last_login': None}, {'id': 2, 'name': 'Gregory Washington', 'email': None, 'age': 18.0, 'balance': 8899.89, 'is_active': 1, 'signup_date': '2025-09-11', 'last_login': None}, {'id': 3, 'name': 'Daniel Stephens', 'email': 'smithjennifer@hotmail.com', 'age': 42.0, 'balance': 9575.99, 'is_active': 1, 'signup_date': '2020-10-18', 'last_login': '2025-08-10 02:26:58'}, {'id': 4, 'name': 'Joshua Greene', 'email': 'jeremy90@gmail.com', 'age': 41.0, 'balance': 2516.23, 'is_active': 0, 'signup_date': '2020-04-13', 'last_login': None}, {'id': 5, 'name': 'Jason Matthews', 'email': 'andrea70@hotmail.com', 'age': 20.0, 'balance': 3162.78, 'is_active': 1, 'signup_date': '2020-09-05', 'last_login': '2025-06-16 20:57:04'}, {'id': 6, 'name': 'Scott Hopkins', 'email': 'lindseyhernandez@smith.com', 'age': 58.0, 'balance': 5185.98, 'is_active': 1, 'signup_date': '2022-11-16', 'last_login': '2025-03-26 21:09:22'}, {'id': 7, 'name': 'Stephanie Moore', 'email': 'brandyhoward@yahoo.com', 'age': 66.0, 'balance': 5900.47, 'is_active': 1, 'signup_date': '2020-10-20', 'last_login': '2025-04-09 20:12:47'}, {'id': 8, 'name': 'Alexandra Castillo', 'email': 'dawn90@yahoo.com', 'age': 73.0, 'balance': 5003.95, 'is_active': 1, 'signup_date': '2022-11-23', 'last_login': '2025-05-22 13:55:44'}  ... displaying 10 of 5000 total bound parameter sets ...  {'id': 4999, 'name': 'Jennifer Nelson', 'email': 'carterpaul@hardy-fields.info', 'age': 49.0, 'balance': 3662.93, 'is_active': 1, 'signup_date': '2025-10-11', 'last_login': '2025-08-07 19:31:24'}, {'id': 5000, 'name': 'Jennifer Valencia', 'email': 'ashleybrown@garcia.biz', 'age': 76.0, 'balance': 4026.09, 'is_active': 1, 'signup_date': None, 'last_login': '2025-07-28 12:44:09'}]]\n(Background on this error at: https://sqlalche.me/e/20/e3q8)",
     "output_type": "error",
     "traceback": [
      "\u001b[1;31m---------------------------------------------------------------------------\u001b[0m",
      "\u001b[1;31mOperationalError\u001b[0m                          Traceback (most recent call last)",
      "File \u001b[1;32m~\\anaconda3\\Lib\\site-packages\\sqlalchemy\\engine\\base.py:1936\u001b[0m, in \u001b[0;36mConnection._exec_single_context\u001b[1;34m(self, dialect, context, statement, parameters)\u001b[0m\n\u001b[0;32m   1935\u001b[0m     \u001b[38;5;28;01mif\u001b[39;00m \u001b[38;5;129;01mnot\u001b[39;00m evt_handled:\n\u001b[1;32m-> 1936\u001b[0m         \u001b[38;5;28mself\u001b[39m\u001b[38;5;241m.\u001b[39mdialect\u001b[38;5;241m.\u001b[39mdo_executemany(\n\u001b[0;32m   1937\u001b[0m             cursor,\n\u001b[0;32m   1938\u001b[0m             str_statement,\n\u001b[0;32m   1939\u001b[0m             effective_parameters,\n\u001b[0;32m   1940\u001b[0m             context,\n\u001b[0;32m   1941\u001b[0m         )\n\u001b[0;32m   1942\u001b[0m \u001b[38;5;28;01melif\u001b[39;00m \u001b[38;5;129;01mnot\u001b[39;00m effective_parameters \u001b[38;5;129;01mand\u001b[39;00m context\u001b[38;5;241m.\u001b[39mno_parameters:\n",
      "File \u001b[1;32m~\\anaconda3\\Lib\\site-packages\\sqlalchemy\\dialects\\mysql\\mysqldb.py:196\u001b[0m, in \u001b[0;36mMySQLDialect_mysqldb.do_executemany\u001b[1;34m(self, cursor, statement, parameters, context)\u001b[0m\n\u001b[0;32m    189\u001b[0m \u001b[38;5;28;01mdef\u001b[39;00m \u001b[38;5;21mdo_executemany\u001b[39m(\n\u001b[0;32m    190\u001b[0m     \u001b[38;5;28mself\u001b[39m,\n\u001b[0;32m    191\u001b[0m     cursor: DBAPICursor,\n\u001b[1;32m   (...)\u001b[0m\n\u001b[0;32m    194\u001b[0m     context: Optional[ExecutionContext] \u001b[38;5;241m=\u001b[39m \u001b[38;5;28;01mNone\u001b[39;00m,\n\u001b[0;32m    195\u001b[0m ) \u001b[38;5;241m-\u001b[39m\u001b[38;5;241m>\u001b[39m \u001b[38;5;28;01mNone\u001b[39;00m:\n\u001b[1;32m--> 196\u001b[0m     rowcount \u001b[38;5;241m=\u001b[39m cursor\u001b[38;5;241m.\u001b[39mexecutemany(statement, parameters)\n\u001b[0;32m    197\u001b[0m     \u001b[38;5;28;01mif\u001b[39;00m context \u001b[38;5;129;01mis\u001b[39;00m \u001b[38;5;129;01mnot\u001b[39;00m \u001b[38;5;28;01mNone\u001b[39;00m:\n",
      "File \u001b[1;32m~\\anaconda3\\Lib\\site-packages\\pymysql\\cursors.py:182\u001b[0m, in \u001b[0;36mCursor.executemany\u001b[1;34m(self, query, args)\u001b[0m\n\u001b[0;32m    181\u001b[0m     \u001b[38;5;28;01massert\u001b[39;00m q_values[\u001b[38;5;241m0\u001b[39m] \u001b[38;5;241m==\u001b[39m \u001b[38;5;124m\"\u001b[39m\u001b[38;5;124m(\u001b[39m\u001b[38;5;124m\"\u001b[39m \u001b[38;5;129;01mand\u001b[39;00m q_values[\u001b[38;5;241m-\u001b[39m\u001b[38;5;241m1\u001b[39m] \u001b[38;5;241m==\u001b[39m \u001b[38;5;124m\"\u001b[39m\u001b[38;5;124m)\u001b[39m\u001b[38;5;124m\"\u001b[39m\n\u001b[1;32m--> 182\u001b[0m     \u001b[38;5;28;01mreturn\u001b[39;00m \u001b[38;5;28mself\u001b[39m\u001b[38;5;241m.\u001b[39m_do_execute_many(\n\u001b[0;32m    183\u001b[0m         q_prefix,\n\u001b[0;32m    184\u001b[0m         q_values,\n\u001b[0;32m    185\u001b[0m         q_postfix,\n\u001b[0;32m    186\u001b[0m         args,\n\u001b[0;32m    187\u001b[0m         \u001b[38;5;28mself\u001b[39m\u001b[38;5;241m.\u001b[39mmax_stmt_length,\n\u001b[0;32m    188\u001b[0m         \u001b[38;5;28mself\u001b[39m\u001b[38;5;241m.\u001b[39m_get_db()\u001b[38;5;241m.\u001b[39mencoding,\n\u001b[0;32m    189\u001b[0m     )\n\u001b[0;32m    191\u001b[0m \u001b[38;5;28mself\u001b[39m\u001b[38;5;241m.\u001b[39mrowcount \u001b[38;5;241m=\u001b[39m \u001b[38;5;28msum\u001b[39m(\u001b[38;5;28mself\u001b[39m\u001b[38;5;241m.\u001b[39mexecute(query, arg) \u001b[38;5;28;01mfor\u001b[39;00m arg \u001b[38;5;129;01min\u001b[39;00m args)\n",
      "File \u001b[1;32m~\\anaconda3\\Lib\\site-packages\\pymysql\\cursors.py:220\u001b[0m, in \u001b[0;36mCursor._do_execute_many\u001b[1;34m(self, prefix, values, postfix, args, max_stmt_length, encoding)\u001b[0m\n\u001b[0;32m    219\u001b[0m     sql \u001b[38;5;241m+\u001b[39m\u001b[38;5;241m=\u001b[39m v\n\u001b[1;32m--> 220\u001b[0m rows \u001b[38;5;241m+\u001b[39m\u001b[38;5;241m=\u001b[39m \u001b[38;5;28mself\u001b[39m\u001b[38;5;241m.\u001b[39mexecute(sql \u001b[38;5;241m+\u001b[39m postfix)\n\u001b[0;32m    221\u001b[0m \u001b[38;5;28mself\u001b[39m\u001b[38;5;241m.\u001b[39mrowcount \u001b[38;5;241m=\u001b[39m rows\n",
      "File \u001b[1;32m~\\anaconda3\\Lib\\site-packages\\pymysql\\cursors.py:153\u001b[0m, in \u001b[0;36mCursor.execute\u001b[1;34m(self, query, args)\u001b[0m\n\u001b[0;32m    151\u001b[0m query \u001b[38;5;241m=\u001b[39m \u001b[38;5;28mself\u001b[39m\u001b[38;5;241m.\u001b[39mmogrify(query, args)\n\u001b[1;32m--> 153\u001b[0m result \u001b[38;5;241m=\u001b[39m \u001b[38;5;28mself\u001b[39m\u001b[38;5;241m.\u001b[39m_query(query)\n\u001b[0;32m    154\u001b[0m \u001b[38;5;28mself\u001b[39m\u001b[38;5;241m.\u001b[39m_executed \u001b[38;5;241m=\u001b[39m query\n",
      "File \u001b[1;32m~\\anaconda3\\Lib\\site-packages\\pymysql\\cursors.py:322\u001b[0m, in \u001b[0;36mCursor._query\u001b[1;34m(self, q)\u001b[0m\n\u001b[0;32m    321\u001b[0m \u001b[38;5;28mself\u001b[39m\u001b[38;5;241m.\u001b[39m_clear_result()\n\u001b[1;32m--> 322\u001b[0m conn\u001b[38;5;241m.\u001b[39mquery(q)\n\u001b[0;32m    323\u001b[0m \u001b[38;5;28mself\u001b[39m\u001b[38;5;241m.\u001b[39m_do_get_result()\n",
      "File \u001b[1;32m~\\anaconda3\\Lib\\site-packages\\pymysql\\connections.py:575\u001b[0m, in \u001b[0;36mConnection.query\u001b[1;34m(self, sql, unbuffered)\u001b[0m\n\u001b[0;32m    574\u001b[0m \u001b[38;5;28mself\u001b[39m\u001b[38;5;241m.\u001b[39m_execute_command(COMMAND\u001b[38;5;241m.\u001b[39mCOM_QUERY, sql)\n\u001b[1;32m--> 575\u001b[0m \u001b[38;5;28mself\u001b[39m\u001b[38;5;241m.\u001b[39m_affected_rows \u001b[38;5;241m=\u001b[39m \u001b[38;5;28mself\u001b[39m\u001b[38;5;241m.\u001b[39m_read_query_result(unbuffered\u001b[38;5;241m=\u001b[39munbuffered)\n\u001b[0;32m    576\u001b[0m \u001b[38;5;28;01mreturn\u001b[39;00m \u001b[38;5;28mself\u001b[39m\u001b[38;5;241m.\u001b[39m_affected_rows\n",
      "File \u001b[1;32m~\\anaconda3\\Lib\\site-packages\\pymysql\\connections.py:826\u001b[0m, in \u001b[0;36mConnection._read_query_result\u001b[1;34m(self, unbuffered)\u001b[0m\n\u001b[0;32m    825\u001b[0m \u001b[38;5;28;01melse\u001b[39;00m:\n\u001b[1;32m--> 826\u001b[0m     result\u001b[38;5;241m.\u001b[39mread()\n\u001b[0;32m    827\u001b[0m \u001b[38;5;28mself\u001b[39m\u001b[38;5;241m.\u001b[39m_result \u001b[38;5;241m=\u001b[39m result\n",
      "File \u001b[1;32m~\\anaconda3\\Lib\\site-packages\\pymysql\\connections.py:1203\u001b[0m, in \u001b[0;36mMySQLResult.read\u001b[1;34m(self)\u001b[0m\n\u001b[0;32m   1202\u001b[0m \u001b[38;5;28;01mtry\u001b[39;00m:\n\u001b[1;32m-> 1203\u001b[0m     first_packet \u001b[38;5;241m=\u001b[39m \u001b[38;5;28mself\u001b[39m\u001b[38;5;241m.\u001b[39mconnection\u001b[38;5;241m.\u001b[39m_read_packet()\n\u001b[0;32m   1205\u001b[0m     \u001b[38;5;28;01mif\u001b[39;00m first_packet\u001b[38;5;241m.\u001b[39mis_ok_packet():\n",
      "File \u001b[1;32m~\\anaconda3\\Lib\\site-packages\\pymysql\\connections.py:782\u001b[0m, in \u001b[0;36mConnection._read_packet\u001b[1;34m(self, packet_type)\u001b[0m\n\u001b[0;32m    781\u001b[0m         \u001b[38;5;28mself\u001b[39m\u001b[38;5;241m.\u001b[39m_result\u001b[38;5;241m.\u001b[39munbuffered_active \u001b[38;5;241m=\u001b[39m \u001b[38;5;28;01mFalse\u001b[39;00m\n\u001b[1;32m--> 782\u001b[0m     packet\u001b[38;5;241m.\u001b[39mraise_for_error()\n\u001b[0;32m    783\u001b[0m \u001b[38;5;28;01mreturn\u001b[39;00m packet\n",
      "File \u001b[1;32m~\\anaconda3\\Lib\\site-packages\\pymysql\\protocol.py:219\u001b[0m, in \u001b[0;36mMysqlPacket.raise_for_error\u001b[1;34m(self)\u001b[0m\n\u001b[0;32m    218\u001b[0m     \u001b[38;5;28mprint\u001b[39m(\u001b[38;5;124m\"\u001b[39m\u001b[38;5;124merrno =\u001b[39m\u001b[38;5;124m\"\u001b[39m, errno)\n\u001b[1;32m--> 219\u001b[0m err\u001b[38;5;241m.\u001b[39mraise_mysql_exception(\u001b[38;5;28mself\u001b[39m\u001b[38;5;241m.\u001b[39m_data)\n",
      "File \u001b[1;32m~\\anaconda3\\Lib\\site-packages\\pymysql\\err.py:150\u001b[0m, in \u001b[0;36mraise_mysql_exception\u001b[1;34m(data)\u001b[0m\n\u001b[0;32m    149\u001b[0m     errorclass \u001b[38;5;241m=\u001b[39m InternalError \u001b[38;5;28;01mif\u001b[39;00m errno \u001b[38;5;241m<\u001b[39m \u001b[38;5;241m1000\u001b[39m \u001b[38;5;28;01melse\u001b[39;00m OperationalError\n\u001b[1;32m--> 150\u001b[0m \u001b[38;5;28;01mraise\u001b[39;00m errorclass(errno, errval)\n",
      "\u001b[1;31mOperationalError\u001b[0m: (1054, \"Unknown column 'name' in 'field list'\")",
      "\nThe above exception was the direct cause of the following exception:\n",
      "\u001b[1;31mOperationalError\u001b[0m                          Traceback (most recent call last)",
      "Cell \u001b[1;32mIn[19], line 10\u001b[0m\n\u001b[0;32m      8\u001b[0m df \u001b[38;5;241m=\u001b[39m pd\u001b[38;5;241m.\u001b[39mread_csv(path)\n\u001b[0;32m      9\u001b[0m \u001b[38;5;28;01mif\u001b[39;00m \u001b[38;5;129;01mnot\u001b[39;00m df\u001b[38;5;241m.\u001b[39mempty:\n\u001b[1;32m---> 10\u001b[0m     df\u001b[38;5;241m.\u001b[39mto_sql(table_name, con\u001b[38;5;241m=\u001b[39mengine, index\u001b[38;5;241m=\u001b[39m\u001b[38;5;28;01mFalse\u001b[39;00m, if_exists\u001b[38;5;241m=\u001b[39m\u001b[38;5;124m'\u001b[39m\u001b[38;5;124mappend\u001b[39m\u001b[38;5;124m'\u001b[39m)\n\u001b[0;32m     11\u001b[0m     \u001b[38;5;28;01mwith\u001b[39;00m engine\u001b[38;5;241m.\u001b[39mconnect() \u001b[38;5;28;01mas\u001b[39;00m conn:\n\u001b[0;32m     12\u001b[0m         count \u001b[38;5;241m=\u001b[39m conn\u001b[38;5;241m.\u001b[39mexecute(text(\u001b[38;5;124mf\u001b[39m\u001b[38;5;124m\"\u001b[39m\u001b[38;5;124mSELECT COUNT(*) FROM `\u001b[39m\u001b[38;5;132;01m{\u001b[39;00mtable_name\u001b[38;5;132;01m}\u001b[39;00m\u001b[38;5;124m`\u001b[39m\u001b[38;5;124m\"\u001b[39m))\u001b[38;5;241m.\u001b[39mscalar()\n",
      "File \u001b[1;32m~\\anaconda3\\Lib\\site-packages\\pandas\\core\\generic.py:2878\u001b[0m, in \u001b[0;36mNDFrame.to_sql\u001b[1;34m(self, name, con, schema, if_exists, index, index_label, chunksize, dtype, method)\u001b[0m\n\u001b[0;32m   2713\u001b[0m \u001b[38;5;250m\u001b[39m\u001b[38;5;124;03m\"\"\"\u001b[39;00m\n\u001b[0;32m   2714\u001b[0m \u001b[38;5;124;03mWrite records stored in a DataFrame to a SQL database.\u001b[39;00m\n\u001b[0;32m   2715\u001b[0m \n\u001b[1;32m   (...)\u001b[0m\n\u001b[0;32m   2874\u001b[0m \u001b[38;5;124;03m[(1,), (None,), (2,)]\u001b[39;00m\n\u001b[0;32m   2875\u001b[0m \u001b[38;5;124;03m\"\"\"\u001b[39;00m  \u001b[38;5;66;03m# noqa:E501\u001b[39;00m\n\u001b[0;32m   2876\u001b[0m \u001b[38;5;28;01mfrom\u001b[39;00m \u001b[38;5;21;01mpandas\u001b[39;00m\u001b[38;5;21;01m.\u001b[39;00m\u001b[38;5;21;01mio\u001b[39;00m \u001b[38;5;28;01mimport\u001b[39;00m sql\n\u001b[1;32m-> 2878\u001b[0m \u001b[38;5;28;01mreturn\u001b[39;00m sql\u001b[38;5;241m.\u001b[39mto_sql(\n\u001b[0;32m   2879\u001b[0m     \u001b[38;5;28mself\u001b[39m,\n\u001b[0;32m   2880\u001b[0m     name,\n\u001b[0;32m   2881\u001b[0m     con,\n\u001b[0;32m   2882\u001b[0m     schema\u001b[38;5;241m=\u001b[39mschema,\n\u001b[0;32m   2883\u001b[0m     if_exists\u001b[38;5;241m=\u001b[39mif_exists,\n\u001b[0;32m   2884\u001b[0m     index\u001b[38;5;241m=\u001b[39mindex,\n\u001b[0;32m   2885\u001b[0m     index_label\u001b[38;5;241m=\u001b[39mindex_label,\n\u001b[0;32m   2886\u001b[0m     chunksize\u001b[38;5;241m=\u001b[39mchunksize,\n\u001b[0;32m   2887\u001b[0m     dtype\u001b[38;5;241m=\u001b[39mdtype,\n\u001b[0;32m   2888\u001b[0m     method\u001b[38;5;241m=\u001b[39mmethod,\n\u001b[0;32m   2889\u001b[0m )\n",
      "File \u001b[1;32m~\\anaconda3\\Lib\\site-packages\\pandas\\io\\sql.py:769\u001b[0m, in \u001b[0;36mto_sql\u001b[1;34m(frame, name, con, schema, if_exists, index, index_label, chunksize, dtype, method, engine, **engine_kwargs)\u001b[0m\n\u001b[0;32m    764\u001b[0m     \u001b[38;5;28;01mraise\u001b[39;00m \u001b[38;5;167;01mNotImplementedError\u001b[39;00m(\n\u001b[0;32m    765\u001b[0m         \u001b[38;5;124m\"\u001b[39m\u001b[38;5;124m'\u001b[39m\u001b[38;5;124mframe\u001b[39m\u001b[38;5;124m'\u001b[39m\u001b[38;5;124m argument should be either a Series or a DataFrame\u001b[39m\u001b[38;5;124m\"\u001b[39m\n\u001b[0;32m    766\u001b[0m     )\n\u001b[0;32m    768\u001b[0m \u001b[38;5;28;01mwith\u001b[39;00m pandasSQL_builder(con, schema\u001b[38;5;241m=\u001b[39mschema, need_transaction\u001b[38;5;241m=\u001b[39m\u001b[38;5;28;01mTrue\u001b[39;00m) \u001b[38;5;28;01mas\u001b[39;00m pandas_sql:\n\u001b[1;32m--> 769\u001b[0m     \u001b[38;5;28;01mreturn\u001b[39;00m pandas_sql\u001b[38;5;241m.\u001b[39mto_sql(\n\u001b[0;32m    770\u001b[0m         frame,\n\u001b[0;32m    771\u001b[0m         name,\n\u001b[0;32m    772\u001b[0m         if_exists\u001b[38;5;241m=\u001b[39mif_exists,\n\u001b[0;32m    773\u001b[0m         index\u001b[38;5;241m=\u001b[39mindex,\n\u001b[0;32m    774\u001b[0m         index_label\u001b[38;5;241m=\u001b[39mindex_label,\n\u001b[0;32m    775\u001b[0m         schema\u001b[38;5;241m=\u001b[39mschema,\n\u001b[0;32m    776\u001b[0m         chunksize\u001b[38;5;241m=\u001b[39mchunksize,\n\u001b[0;32m    777\u001b[0m         dtype\u001b[38;5;241m=\u001b[39mdtype,\n\u001b[0;32m    778\u001b[0m         method\u001b[38;5;241m=\u001b[39mmethod,\n\u001b[0;32m    779\u001b[0m         engine\u001b[38;5;241m=\u001b[39mengine,\n\u001b[0;32m    780\u001b[0m         \u001b[38;5;241m*\u001b[39m\u001b[38;5;241m*\u001b[39mengine_kwargs,\n\u001b[0;32m    781\u001b[0m     )\n",
      "File \u001b[1;32m~\\anaconda3\\Lib\\site-packages\\pandas\\io\\sql.py:1920\u001b[0m, in \u001b[0;36mSQLDatabase.to_sql\u001b[1;34m(self, frame, name, if_exists, index, index_label, schema, chunksize, dtype, method, engine, **engine_kwargs)\u001b[0m\n\u001b[0;32m   1908\u001b[0m sql_engine \u001b[38;5;241m=\u001b[39m get_engine(engine)\n\u001b[0;32m   1910\u001b[0m table \u001b[38;5;241m=\u001b[39m \u001b[38;5;28mself\u001b[39m\u001b[38;5;241m.\u001b[39mprep_table(\n\u001b[0;32m   1911\u001b[0m     frame\u001b[38;5;241m=\u001b[39mframe,\n\u001b[0;32m   1912\u001b[0m     name\u001b[38;5;241m=\u001b[39mname,\n\u001b[1;32m   (...)\u001b[0m\n\u001b[0;32m   1917\u001b[0m     dtype\u001b[38;5;241m=\u001b[39mdtype,\n\u001b[0;32m   1918\u001b[0m )\n\u001b[1;32m-> 1920\u001b[0m total_inserted \u001b[38;5;241m=\u001b[39m sql_engine\u001b[38;5;241m.\u001b[39minsert_records(\n\u001b[0;32m   1921\u001b[0m     table\u001b[38;5;241m=\u001b[39mtable,\n\u001b[0;32m   1922\u001b[0m     con\u001b[38;5;241m=\u001b[39m\u001b[38;5;28mself\u001b[39m\u001b[38;5;241m.\u001b[39mcon,\n\u001b[0;32m   1923\u001b[0m     frame\u001b[38;5;241m=\u001b[39mframe,\n\u001b[0;32m   1924\u001b[0m     name\u001b[38;5;241m=\u001b[39mname,\n\u001b[0;32m   1925\u001b[0m     index\u001b[38;5;241m=\u001b[39mindex,\n\u001b[0;32m   1926\u001b[0m     schema\u001b[38;5;241m=\u001b[39mschema,\n\u001b[0;32m   1927\u001b[0m     chunksize\u001b[38;5;241m=\u001b[39mchunksize,\n\u001b[0;32m   1928\u001b[0m     method\u001b[38;5;241m=\u001b[39mmethod,\n\u001b[0;32m   1929\u001b[0m     \u001b[38;5;241m*\u001b[39m\u001b[38;5;241m*\u001b[39mengine_kwargs,\n\u001b[0;32m   1930\u001b[0m )\n\u001b[0;32m   1932\u001b[0m \u001b[38;5;28mself\u001b[39m\u001b[38;5;241m.\u001b[39mcheck_case_sensitive(name\u001b[38;5;241m=\u001b[39mname, schema\u001b[38;5;241m=\u001b[39mschema)\n\u001b[0;32m   1933\u001b[0m \u001b[38;5;28;01mreturn\u001b[39;00m total_inserted\n",
      "File \u001b[1;32m~\\anaconda3\\Lib\\site-packages\\pandas\\io\\sql.py:1470\u001b[0m, in \u001b[0;36mSQLAlchemyEngine.insert_records\u001b[1;34m(self, table, con, frame, name, index, schema, chunksize, method, **engine_kwargs)\u001b[0m\n\u001b[0;32m   1468\u001b[0m \u001b[38;5;28;01mif\u001b[39;00m re\u001b[38;5;241m.\u001b[39msearch(msg, err_text):\n\u001b[0;32m   1469\u001b[0m     \u001b[38;5;28;01mraise\u001b[39;00m \u001b[38;5;167;01mValueError\u001b[39;00m(\u001b[38;5;124m\"\u001b[39m\u001b[38;5;124minf cannot be used with MySQL\u001b[39m\u001b[38;5;124m\"\u001b[39m) \u001b[38;5;28;01mfrom\u001b[39;00m \u001b[38;5;21;01merr\u001b[39;00m\n\u001b[1;32m-> 1470\u001b[0m \u001b[38;5;28;01mraise\u001b[39;00m err\n",
      "File \u001b[1;32m~\\anaconda3\\Lib\\site-packages\\pandas\\io\\sql.py:1461\u001b[0m, in \u001b[0;36mSQLAlchemyEngine.insert_records\u001b[1;34m(self, table, con, frame, name, index, schema, chunksize, method, **engine_kwargs)\u001b[0m\n\u001b[0;32m   1458\u001b[0m \u001b[38;5;28;01mfrom\u001b[39;00m \u001b[38;5;21;01msqlalchemy\u001b[39;00m \u001b[38;5;28;01mimport\u001b[39;00m exc\n\u001b[0;32m   1460\u001b[0m \u001b[38;5;28;01mtry\u001b[39;00m:\n\u001b[1;32m-> 1461\u001b[0m     \u001b[38;5;28;01mreturn\u001b[39;00m table\u001b[38;5;241m.\u001b[39minsert(chunksize\u001b[38;5;241m=\u001b[39mchunksize, method\u001b[38;5;241m=\u001b[39mmethod)\n\u001b[0;32m   1462\u001b[0m \u001b[38;5;28;01mexcept\u001b[39;00m exc\u001b[38;5;241m.\u001b[39mStatementError \u001b[38;5;28;01mas\u001b[39;00m err:\n\u001b[0;32m   1463\u001b[0m     \u001b[38;5;66;03m# GH34431\u001b[39;00m\n\u001b[0;32m   1464\u001b[0m     \u001b[38;5;66;03m# https://stackoverflow.com/a/67358288/6067848\u001b[39;00m\n\u001b[0;32m   1465\u001b[0m     msg \u001b[38;5;241m=\u001b[39m \u001b[38;5;124mr\u001b[39m\u001b[38;5;124m\"\"\"\u001b[39m\u001b[38;5;124m(\u001b[39m\u001b[38;5;124m\\\u001b[39m\u001b[38;5;124m(1054, \u001b[39m\u001b[38;5;124m\"\u001b[39m\u001b[38;5;124mUnknown column \u001b[39m\u001b[38;5;124m'\u001b[39m\u001b[38;5;124minf(e0)?\u001b[39m\u001b[38;5;124m'\u001b[39m\u001b[38;5;124m in \u001b[39m\u001b[38;5;124m'\u001b[39m\u001b[38;5;124mfield list\u001b[39m\u001b[38;5;124m'\u001b[39m\u001b[38;5;124m\"\u001b[39m\u001b[38;5;124m\\\u001b[39m\u001b[38;5;124m))(?#\u001b[39m\n\u001b[0;32m   1466\u001b[0m \u001b[38;5;124m    )|inf can not be used with MySQL\u001b[39m\u001b[38;5;124m\"\"\"\u001b[39m\n",
      "File \u001b[1;32m~\\anaconda3\\Lib\\site-packages\\pandas\\io\\sql.py:1023\u001b[0m, in \u001b[0;36mSQLTable.insert\u001b[1;34m(self, chunksize, method)\u001b[0m\n\u001b[0;32m   1020\u001b[0m     \u001b[38;5;28;01mbreak\u001b[39;00m\n\u001b[0;32m   1022\u001b[0m chunk_iter \u001b[38;5;241m=\u001b[39m \u001b[38;5;28mzip\u001b[39m(\u001b[38;5;241m*\u001b[39m(arr[start_i:end_i] \u001b[38;5;28;01mfor\u001b[39;00m arr \u001b[38;5;129;01min\u001b[39;00m data_list))\n\u001b[1;32m-> 1023\u001b[0m num_inserted \u001b[38;5;241m=\u001b[39m exec_insert(conn, keys, chunk_iter)\n\u001b[0;32m   1024\u001b[0m \u001b[38;5;66;03m# GH 46891\u001b[39;00m\n\u001b[0;32m   1025\u001b[0m \u001b[38;5;28;01mif\u001b[39;00m is_integer(num_inserted):\n",
      "File \u001b[1;32m~\\anaconda3\\Lib\\site-packages\\pandas\\io\\sql.py:929\u001b[0m, in \u001b[0;36mSQLTable._execute_insert\u001b[1;34m(self, conn, keys, data_iter)\u001b[0m\n\u001b[0;32m    917\u001b[0m \u001b[38;5;250m\u001b[39m\u001b[38;5;124;03m\"\"\"\u001b[39;00m\n\u001b[0;32m    918\u001b[0m \u001b[38;5;124;03mExecute SQL statement inserting data\u001b[39;00m\n\u001b[0;32m    919\u001b[0m \n\u001b[1;32m   (...)\u001b[0m\n\u001b[0;32m    926\u001b[0m \u001b[38;5;124;03m   Each item contains a list of values to be inserted\u001b[39;00m\n\u001b[0;32m    927\u001b[0m \u001b[38;5;124;03m\"\"\"\u001b[39;00m\n\u001b[0;32m    928\u001b[0m data \u001b[38;5;241m=\u001b[39m [\u001b[38;5;28mdict\u001b[39m(\u001b[38;5;28mzip\u001b[39m(keys, row)) \u001b[38;5;28;01mfor\u001b[39;00m row \u001b[38;5;129;01min\u001b[39;00m data_iter]\n\u001b[1;32m--> 929\u001b[0m result \u001b[38;5;241m=\u001b[39m conn\u001b[38;5;241m.\u001b[39mexecute(\u001b[38;5;28mself\u001b[39m\u001b[38;5;241m.\u001b[39mtable\u001b[38;5;241m.\u001b[39minsert(), data)\n\u001b[0;32m    930\u001b[0m \u001b[38;5;28;01mreturn\u001b[39;00m result\u001b[38;5;241m.\u001b[39mrowcount\n",
      "File \u001b[1;32m~\\anaconda3\\Lib\\site-packages\\sqlalchemy\\engine\\base.py:1419\u001b[0m, in \u001b[0;36mConnection.execute\u001b[1;34m(self, statement, parameters, execution_options)\u001b[0m\n\u001b[0;32m   1417\u001b[0m     \u001b[38;5;28;01mraise\u001b[39;00m exc\u001b[38;5;241m.\u001b[39mObjectNotExecutableError(statement) \u001b[38;5;28;01mfrom\u001b[39;00m \u001b[38;5;21;01merr\u001b[39;00m\n\u001b[0;32m   1418\u001b[0m \u001b[38;5;28;01melse\u001b[39;00m:\n\u001b[1;32m-> 1419\u001b[0m     \u001b[38;5;28;01mreturn\u001b[39;00m meth(\n\u001b[0;32m   1420\u001b[0m         \u001b[38;5;28mself\u001b[39m,\n\u001b[0;32m   1421\u001b[0m         distilled_parameters,\n\u001b[0;32m   1422\u001b[0m         execution_options \u001b[38;5;129;01mor\u001b[39;00m NO_OPTIONS,\n\u001b[0;32m   1423\u001b[0m     )\n",
      "File \u001b[1;32m~\\anaconda3\\Lib\\site-packages\\sqlalchemy\\sql\\elements.py:526\u001b[0m, in \u001b[0;36mClauseElement._execute_on_connection\u001b[1;34m(self, connection, distilled_params, execution_options)\u001b[0m\n\u001b[0;32m    524\u001b[0m     \u001b[38;5;28;01mif\u001b[39;00m TYPE_CHECKING:\n\u001b[0;32m    525\u001b[0m         \u001b[38;5;28;01massert\u001b[39;00m \u001b[38;5;28misinstance\u001b[39m(\u001b[38;5;28mself\u001b[39m, Executable)\n\u001b[1;32m--> 526\u001b[0m     \u001b[38;5;28;01mreturn\u001b[39;00m connection\u001b[38;5;241m.\u001b[39m_execute_clauseelement(\n\u001b[0;32m    527\u001b[0m         \u001b[38;5;28mself\u001b[39m, distilled_params, execution_options\n\u001b[0;32m    528\u001b[0m     )\n\u001b[0;32m    529\u001b[0m \u001b[38;5;28;01melse\u001b[39;00m:\n\u001b[0;32m    530\u001b[0m     \u001b[38;5;28;01mraise\u001b[39;00m exc\u001b[38;5;241m.\u001b[39mObjectNotExecutableError(\u001b[38;5;28mself\u001b[39m)\n",
      "File \u001b[1;32m~\\anaconda3\\Lib\\site-packages\\sqlalchemy\\engine\\base.py:1641\u001b[0m, in \u001b[0;36mConnection._execute_clauseelement\u001b[1;34m(self, elem, distilled_parameters, execution_options)\u001b[0m\n\u001b[0;32m   1629\u001b[0m compiled_cache: Optional[CompiledCacheType] \u001b[38;5;241m=\u001b[39m execution_options\u001b[38;5;241m.\u001b[39mget(\n\u001b[0;32m   1630\u001b[0m     \u001b[38;5;124m\"\u001b[39m\u001b[38;5;124mcompiled_cache\u001b[39m\u001b[38;5;124m\"\u001b[39m, \u001b[38;5;28mself\u001b[39m\u001b[38;5;241m.\u001b[39mengine\u001b[38;5;241m.\u001b[39m_compiled_cache\n\u001b[0;32m   1631\u001b[0m )\n\u001b[0;32m   1633\u001b[0m compiled_sql, extracted_params, cache_hit \u001b[38;5;241m=\u001b[39m elem\u001b[38;5;241m.\u001b[39m_compile_w_cache(\n\u001b[0;32m   1634\u001b[0m     dialect\u001b[38;5;241m=\u001b[39mdialect,\n\u001b[0;32m   1635\u001b[0m     compiled_cache\u001b[38;5;241m=\u001b[39mcompiled_cache,\n\u001b[1;32m   (...)\u001b[0m\n\u001b[0;32m   1639\u001b[0m     linting\u001b[38;5;241m=\u001b[39m\u001b[38;5;28mself\u001b[39m\u001b[38;5;241m.\u001b[39mdialect\u001b[38;5;241m.\u001b[39mcompiler_linting \u001b[38;5;241m|\u001b[39m compiler\u001b[38;5;241m.\u001b[39mWARN_LINTING,\n\u001b[0;32m   1640\u001b[0m )\n\u001b[1;32m-> 1641\u001b[0m ret \u001b[38;5;241m=\u001b[39m \u001b[38;5;28mself\u001b[39m\u001b[38;5;241m.\u001b[39m_execute_context(\n\u001b[0;32m   1642\u001b[0m     dialect,\n\u001b[0;32m   1643\u001b[0m     dialect\u001b[38;5;241m.\u001b[39mexecution_ctx_cls\u001b[38;5;241m.\u001b[39m_init_compiled,\n\u001b[0;32m   1644\u001b[0m     compiled_sql,\n\u001b[0;32m   1645\u001b[0m     distilled_parameters,\n\u001b[0;32m   1646\u001b[0m     execution_options,\n\u001b[0;32m   1647\u001b[0m     compiled_sql,\n\u001b[0;32m   1648\u001b[0m     distilled_parameters,\n\u001b[0;32m   1649\u001b[0m     elem,\n\u001b[0;32m   1650\u001b[0m     extracted_params,\n\u001b[0;32m   1651\u001b[0m     cache_hit\u001b[38;5;241m=\u001b[39mcache_hit,\n\u001b[0;32m   1652\u001b[0m )\n\u001b[0;32m   1653\u001b[0m \u001b[38;5;28;01mif\u001b[39;00m has_events:\n\u001b[0;32m   1654\u001b[0m     \u001b[38;5;28mself\u001b[39m\u001b[38;5;241m.\u001b[39mdispatch\u001b[38;5;241m.\u001b[39mafter_execute(\n\u001b[0;32m   1655\u001b[0m         \u001b[38;5;28mself\u001b[39m,\n\u001b[0;32m   1656\u001b[0m         elem,\n\u001b[1;32m   (...)\u001b[0m\n\u001b[0;32m   1660\u001b[0m         ret,\n\u001b[0;32m   1661\u001b[0m     )\n",
      "File \u001b[1;32m~\\anaconda3\\Lib\\site-packages\\sqlalchemy\\engine\\base.py:1846\u001b[0m, in \u001b[0;36mConnection._execute_context\u001b[1;34m(self, dialect, constructor, statement, parameters, execution_options, *args, **kw)\u001b[0m\n\u001b[0;32m   1844\u001b[0m     \u001b[38;5;28;01mreturn\u001b[39;00m \u001b[38;5;28mself\u001b[39m\u001b[38;5;241m.\u001b[39m_exec_insertmany_context(dialect, context)\n\u001b[0;32m   1845\u001b[0m \u001b[38;5;28;01melse\u001b[39;00m:\n\u001b[1;32m-> 1846\u001b[0m     \u001b[38;5;28;01mreturn\u001b[39;00m \u001b[38;5;28mself\u001b[39m\u001b[38;5;241m.\u001b[39m_exec_single_context(\n\u001b[0;32m   1847\u001b[0m         dialect, context, statement, parameters\n\u001b[0;32m   1848\u001b[0m     )\n",
      "File \u001b[1;32m~\\anaconda3\\Lib\\site-packages\\sqlalchemy\\engine\\base.py:1986\u001b[0m, in \u001b[0;36mConnection._exec_single_context\u001b[1;34m(self, dialect, context, statement, parameters)\u001b[0m\n\u001b[0;32m   1983\u001b[0m     result \u001b[38;5;241m=\u001b[39m context\u001b[38;5;241m.\u001b[39m_setup_result_proxy()\n\u001b[0;32m   1985\u001b[0m \u001b[38;5;28;01mexcept\u001b[39;00m \u001b[38;5;167;01mBaseException\u001b[39;00m \u001b[38;5;28;01mas\u001b[39;00m e:\n\u001b[1;32m-> 1986\u001b[0m     \u001b[38;5;28mself\u001b[39m\u001b[38;5;241m.\u001b[39m_handle_dbapi_exception(\n\u001b[0;32m   1987\u001b[0m         e, str_statement, effective_parameters, cursor, context\n\u001b[0;32m   1988\u001b[0m     )\n\u001b[0;32m   1990\u001b[0m \u001b[38;5;28;01mreturn\u001b[39;00m result\n",
      "File \u001b[1;32m~\\anaconda3\\Lib\\site-packages\\sqlalchemy\\engine\\base.py:2355\u001b[0m, in \u001b[0;36mConnection._handle_dbapi_exception\u001b[1;34m(self, e, statement, parameters, cursor, context, is_sub_exec)\u001b[0m\n\u001b[0;32m   2353\u001b[0m \u001b[38;5;28;01melif\u001b[39;00m should_wrap:\n\u001b[0;32m   2354\u001b[0m     \u001b[38;5;28;01massert\u001b[39;00m sqlalchemy_exception \u001b[38;5;129;01mis\u001b[39;00m \u001b[38;5;129;01mnot\u001b[39;00m \u001b[38;5;28;01mNone\u001b[39;00m\n\u001b[1;32m-> 2355\u001b[0m     \u001b[38;5;28;01mraise\u001b[39;00m sqlalchemy_exception\u001b[38;5;241m.\u001b[39mwith_traceback(exc_info[\u001b[38;5;241m2\u001b[39m]) \u001b[38;5;28;01mfrom\u001b[39;00m \u001b[38;5;21;01me\u001b[39;00m\n\u001b[0;32m   2356\u001b[0m \u001b[38;5;28;01melse\u001b[39;00m:\n\u001b[0;32m   2357\u001b[0m     \u001b[38;5;28;01massert\u001b[39;00m exc_info[\u001b[38;5;241m1\u001b[39m] \u001b[38;5;129;01mis\u001b[39;00m \u001b[38;5;129;01mnot\u001b[39;00m \u001b[38;5;28;01mNone\u001b[39;00m\n",
      "File \u001b[1;32m~\\anaconda3\\Lib\\site-packages\\sqlalchemy\\engine\\base.py:1936\u001b[0m, in \u001b[0;36mConnection._exec_single_context\u001b[1;34m(self, dialect, context, statement, parameters)\u001b[0m\n\u001b[0;32m   1934\u001b[0m                 \u001b[38;5;28;01mbreak\u001b[39;00m\n\u001b[0;32m   1935\u001b[0m     \u001b[38;5;28;01mif\u001b[39;00m \u001b[38;5;129;01mnot\u001b[39;00m evt_handled:\n\u001b[1;32m-> 1936\u001b[0m         \u001b[38;5;28mself\u001b[39m\u001b[38;5;241m.\u001b[39mdialect\u001b[38;5;241m.\u001b[39mdo_executemany(\n\u001b[0;32m   1937\u001b[0m             cursor,\n\u001b[0;32m   1938\u001b[0m             str_statement,\n\u001b[0;32m   1939\u001b[0m             effective_parameters,\n\u001b[0;32m   1940\u001b[0m             context,\n\u001b[0;32m   1941\u001b[0m         )\n\u001b[0;32m   1942\u001b[0m \u001b[38;5;28;01melif\u001b[39;00m \u001b[38;5;129;01mnot\u001b[39;00m effective_parameters \u001b[38;5;129;01mand\u001b[39;00m context\u001b[38;5;241m.\u001b[39mno_parameters:\n\u001b[0;32m   1943\u001b[0m     \u001b[38;5;28;01mif\u001b[39;00m \u001b[38;5;28mself\u001b[39m\u001b[38;5;241m.\u001b[39mdialect\u001b[38;5;241m.\u001b[39m_has_events:\n",
      "File \u001b[1;32m~\\anaconda3\\Lib\\site-packages\\sqlalchemy\\dialects\\mysql\\mysqldb.py:196\u001b[0m, in \u001b[0;36mMySQLDialect_mysqldb.do_executemany\u001b[1;34m(self, cursor, statement, parameters, context)\u001b[0m\n\u001b[0;32m    189\u001b[0m \u001b[38;5;28;01mdef\u001b[39;00m \u001b[38;5;21mdo_executemany\u001b[39m(\n\u001b[0;32m    190\u001b[0m     \u001b[38;5;28mself\u001b[39m,\n\u001b[0;32m    191\u001b[0m     cursor: DBAPICursor,\n\u001b[1;32m   (...)\u001b[0m\n\u001b[0;32m    194\u001b[0m     context: Optional[ExecutionContext] \u001b[38;5;241m=\u001b[39m \u001b[38;5;28;01mNone\u001b[39;00m,\n\u001b[0;32m    195\u001b[0m ) \u001b[38;5;241m-\u001b[39m\u001b[38;5;241m>\u001b[39m \u001b[38;5;28;01mNone\u001b[39;00m:\n\u001b[1;32m--> 196\u001b[0m     rowcount \u001b[38;5;241m=\u001b[39m cursor\u001b[38;5;241m.\u001b[39mexecutemany(statement, parameters)\n\u001b[0;32m    197\u001b[0m     \u001b[38;5;28;01mif\u001b[39;00m context \u001b[38;5;129;01mis\u001b[39;00m \u001b[38;5;129;01mnot\u001b[39;00m \u001b[38;5;28;01mNone\u001b[39;00m:\n\u001b[0;32m    198\u001b[0m         cast(MySQLExecutionContext, context)\u001b[38;5;241m.\u001b[39m_rowcount \u001b[38;5;241m=\u001b[39m rowcount\n",
      "File \u001b[1;32m~\\anaconda3\\Lib\\site-packages\\pymysql\\cursors.py:182\u001b[0m, in \u001b[0;36mCursor.executemany\u001b[1;34m(self, query, args)\u001b[0m\n\u001b[0;32m    180\u001b[0m     q_postfix \u001b[38;5;241m=\u001b[39m m\u001b[38;5;241m.\u001b[39mgroup(\u001b[38;5;241m3\u001b[39m) \u001b[38;5;129;01mor\u001b[39;00m \u001b[38;5;124m\"\u001b[39m\u001b[38;5;124m\"\u001b[39m\n\u001b[0;32m    181\u001b[0m     \u001b[38;5;28;01massert\u001b[39;00m q_values[\u001b[38;5;241m0\u001b[39m] \u001b[38;5;241m==\u001b[39m \u001b[38;5;124m\"\u001b[39m\u001b[38;5;124m(\u001b[39m\u001b[38;5;124m\"\u001b[39m \u001b[38;5;129;01mand\u001b[39;00m q_values[\u001b[38;5;241m-\u001b[39m\u001b[38;5;241m1\u001b[39m] \u001b[38;5;241m==\u001b[39m \u001b[38;5;124m\"\u001b[39m\u001b[38;5;124m)\u001b[39m\u001b[38;5;124m\"\u001b[39m\n\u001b[1;32m--> 182\u001b[0m     \u001b[38;5;28;01mreturn\u001b[39;00m \u001b[38;5;28mself\u001b[39m\u001b[38;5;241m.\u001b[39m_do_execute_many(\n\u001b[0;32m    183\u001b[0m         q_prefix,\n\u001b[0;32m    184\u001b[0m         q_values,\n\u001b[0;32m    185\u001b[0m         q_postfix,\n\u001b[0;32m    186\u001b[0m         args,\n\u001b[0;32m    187\u001b[0m         \u001b[38;5;28mself\u001b[39m\u001b[38;5;241m.\u001b[39mmax_stmt_length,\n\u001b[0;32m    188\u001b[0m         \u001b[38;5;28mself\u001b[39m\u001b[38;5;241m.\u001b[39m_get_db()\u001b[38;5;241m.\u001b[39mencoding,\n\u001b[0;32m    189\u001b[0m     )\n\u001b[0;32m    191\u001b[0m \u001b[38;5;28mself\u001b[39m\u001b[38;5;241m.\u001b[39mrowcount \u001b[38;5;241m=\u001b[39m \u001b[38;5;28msum\u001b[39m(\u001b[38;5;28mself\u001b[39m\u001b[38;5;241m.\u001b[39mexecute(query, arg) \u001b[38;5;28;01mfor\u001b[39;00m arg \u001b[38;5;129;01min\u001b[39;00m args)\n\u001b[0;32m    192\u001b[0m \u001b[38;5;28;01mreturn\u001b[39;00m \u001b[38;5;28mself\u001b[39m\u001b[38;5;241m.\u001b[39mrowcount\n",
      "File \u001b[1;32m~\\anaconda3\\Lib\\site-packages\\pymysql\\cursors.py:220\u001b[0m, in \u001b[0;36mCursor._do_execute_many\u001b[1;34m(self, prefix, values, postfix, args, max_stmt_length, encoding)\u001b[0m\n\u001b[0;32m    218\u001b[0m         sql \u001b[38;5;241m+\u001b[39m\u001b[38;5;241m=\u001b[39m \u001b[38;5;124mb\u001b[39m\u001b[38;5;124m\"\u001b[39m\u001b[38;5;124m,\u001b[39m\u001b[38;5;124m\"\u001b[39m\n\u001b[0;32m    219\u001b[0m     sql \u001b[38;5;241m+\u001b[39m\u001b[38;5;241m=\u001b[39m v\n\u001b[1;32m--> 220\u001b[0m rows \u001b[38;5;241m+\u001b[39m\u001b[38;5;241m=\u001b[39m \u001b[38;5;28mself\u001b[39m\u001b[38;5;241m.\u001b[39mexecute(sql \u001b[38;5;241m+\u001b[39m postfix)\n\u001b[0;32m    221\u001b[0m \u001b[38;5;28mself\u001b[39m\u001b[38;5;241m.\u001b[39mrowcount \u001b[38;5;241m=\u001b[39m rows\n\u001b[0;32m    222\u001b[0m \u001b[38;5;28;01mreturn\u001b[39;00m rows\n",
      "File \u001b[1;32m~\\anaconda3\\Lib\\site-packages\\pymysql\\cursors.py:153\u001b[0m, in \u001b[0;36mCursor.execute\u001b[1;34m(self, query, args)\u001b[0m\n\u001b[0;32m    149\u001b[0m     \u001b[38;5;28;01mpass\u001b[39;00m\n\u001b[0;32m    151\u001b[0m query \u001b[38;5;241m=\u001b[39m \u001b[38;5;28mself\u001b[39m\u001b[38;5;241m.\u001b[39mmogrify(query, args)\n\u001b[1;32m--> 153\u001b[0m result \u001b[38;5;241m=\u001b[39m \u001b[38;5;28mself\u001b[39m\u001b[38;5;241m.\u001b[39m_query(query)\n\u001b[0;32m    154\u001b[0m \u001b[38;5;28mself\u001b[39m\u001b[38;5;241m.\u001b[39m_executed \u001b[38;5;241m=\u001b[39m query\n\u001b[0;32m    155\u001b[0m \u001b[38;5;28;01mreturn\u001b[39;00m result\n",
      "File \u001b[1;32m~\\anaconda3\\Lib\\site-packages\\pymysql\\cursors.py:322\u001b[0m, in \u001b[0;36mCursor._query\u001b[1;34m(self, q)\u001b[0m\n\u001b[0;32m    320\u001b[0m conn \u001b[38;5;241m=\u001b[39m \u001b[38;5;28mself\u001b[39m\u001b[38;5;241m.\u001b[39m_get_db()\n\u001b[0;32m    321\u001b[0m \u001b[38;5;28mself\u001b[39m\u001b[38;5;241m.\u001b[39m_clear_result()\n\u001b[1;32m--> 322\u001b[0m conn\u001b[38;5;241m.\u001b[39mquery(q)\n\u001b[0;32m    323\u001b[0m \u001b[38;5;28mself\u001b[39m\u001b[38;5;241m.\u001b[39m_do_get_result()\n\u001b[0;32m    324\u001b[0m \u001b[38;5;28;01mreturn\u001b[39;00m \u001b[38;5;28mself\u001b[39m\u001b[38;5;241m.\u001b[39mrowcount\n",
      "File \u001b[1;32m~\\anaconda3\\Lib\\site-packages\\pymysql\\connections.py:575\u001b[0m, in \u001b[0;36mConnection.query\u001b[1;34m(self, sql, unbuffered)\u001b[0m\n\u001b[0;32m    573\u001b[0m     sql \u001b[38;5;241m=\u001b[39m sql\u001b[38;5;241m.\u001b[39mencode(\u001b[38;5;28mself\u001b[39m\u001b[38;5;241m.\u001b[39mencoding, \u001b[38;5;124m\"\u001b[39m\u001b[38;5;124msurrogateescape\u001b[39m\u001b[38;5;124m\"\u001b[39m)\n\u001b[0;32m    574\u001b[0m \u001b[38;5;28mself\u001b[39m\u001b[38;5;241m.\u001b[39m_execute_command(COMMAND\u001b[38;5;241m.\u001b[39mCOM_QUERY, sql)\n\u001b[1;32m--> 575\u001b[0m \u001b[38;5;28mself\u001b[39m\u001b[38;5;241m.\u001b[39m_affected_rows \u001b[38;5;241m=\u001b[39m \u001b[38;5;28mself\u001b[39m\u001b[38;5;241m.\u001b[39m_read_query_result(unbuffered\u001b[38;5;241m=\u001b[39munbuffered)\n\u001b[0;32m    576\u001b[0m \u001b[38;5;28;01mreturn\u001b[39;00m \u001b[38;5;28mself\u001b[39m\u001b[38;5;241m.\u001b[39m_affected_rows\n",
      "File \u001b[1;32m~\\anaconda3\\Lib\\site-packages\\pymysql\\connections.py:826\u001b[0m, in \u001b[0;36mConnection._read_query_result\u001b[1;34m(self, unbuffered)\u001b[0m\n\u001b[0;32m    824\u001b[0m     result\u001b[38;5;241m.\u001b[39minit_unbuffered_query()\n\u001b[0;32m    825\u001b[0m \u001b[38;5;28;01melse\u001b[39;00m:\n\u001b[1;32m--> 826\u001b[0m     result\u001b[38;5;241m.\u001b[39mread()\n\u001b[0;32m    827\u001b[0m \u001b[38;5;28mself\u001b[39m\u001b[38;5;241m.\u001b[39m_result \u001b[38;5;241m=\u001b[39m result\n\u001b[0;32m    828\u001b[0m \u001b[38;5;28;01mif\u001b[39;00m result\u001b[38;5;241m.\u001b[39mserver_status \u001b[38;5;129;01mis\u001b[39;00m \u001b[38;5;129;01mnot\u001b[39;00m \u001b[38;5;28;01mNone\u001b[39;00m:\n",
      "File \u001b[1;32m~\\anaconda3\\Lib\\site-packages\\pymysql\\connections.py:1203\u001b[0m, in \u001b[0;36mMySQLResult.read\u001b[1;34m(self)\u001b[0m\n\u001b[0;32m   1201\u001b[0m \u001b[38;5;28;01mdef\u001b[39;00m \u001b[38;5;21mread\u001b[39m(\u001b[38;5;28mself\u001b[39m):\n\u001b[0;32m   1202\u001b[0m     \u001b[38;5;28;01mtry\u001b[39;00m:\n\u001b[1;32m-> 1203\u001b[0m         first_packet \u001b[38;5;241m=\u001b[39m \u001b[38;5;28mself\u001b[39m\u001b[38;5;241m.\u001b[39mconnection\u001b[38;5;241m.\u001b[39m_read_packet()\n\u001b[0;32m   1205\u001b[0m         \u001b[38;5;28;01mif\u001b[39;00m first_packet\u001b[38;5;241m.\u001b[39mis_ok_packet():\n\u001b[0;32m   1206\u001b[0m             \u001b[38;5;28mself\u001b[39m\u001b[38;5;241m.\u001b[39m_read_ok_packet(first_packet)\n",
      "File \u001b[1;32m~\\anaconda3\\Lib\\site-packages\\pymysql\\connections.py:782\u001b[0m, in \u001b[0;36mConnection._read_packet\u001b[1;34m(self, packet_type)\u001b[0m\n\u001b[0;32m    780\u001b[0m     \u001b[38;5;28;01mif\u001b[39;00m \u001b[38;5;28mself\u001b[39m\u001b[38;5;241m.\u001b[39m_result \u001b[38;5;129;01mis\u001b[39;00m \u001b[38;5;129;01mnot\u001b[39;00m \u001b[38;5;28;01mNone\u001b[39;00m \u001b[38;5;129;01mand\u001b[39;00m \u001b[38;5;28mself\u001b[39m\u001b[38;5;241m.\u001b[39m_result\u001b[38;5;241m.\u001b[39munbuffered_active \u001b[38;5;129;01mis\u001b[39;00m \u001b[38;5;28;01mTrue\u001b[39;00m:\n\u001b[0;32m    781\u001b[0m         \u001b[38;5;28mself\u001b[39m\u001b[38;5;241m.\u001b[39m_result\u001b[38;5;241m.\u001b[39munbuffered_active \u001b[38;5;241m=\u001b[39m \u001b[38;5;28;01mFalse\u001b[39;00m\n\u001b[1;32m--> 782\u001b[0m     packet\u001b[38;5;241m.\u001b[39mraise_for_error()\n\u001b[0;32m    783\u001b[0m \u001b[38;5;28;01mreturn\u001b[39;00m packet\n",
      "File \u001b[1;32m~\\anaconda3\\Lib\\site-packages\\pymysql\\protocol.py:219\u001b[0m, in \u001b[0;36mMysqlPacket.raise_for_error\u001b[1;34m(self)\u001b[0m\n\u001b[0;32m    217\u001b[0m \u001b[38;5;28;01mif\u001b[39;00m DEBUG:\n\u001b[0;32m    218\u001b[0m     \u001b[38;5;28mprint\u001b[39m(\u001b[38;5;124m\"\u001b[39m\u001b[38;5;124merrno =\u001b[39m\u001b[38;5;124m\"\u001b[39m, errno)\n\u001b[1;32m--> 219\u001b[0m err\u001b[38;5;241m.\u001b[39mraise_mysql_exception(\u001b[38;5;28mself\u001b[39m\u001b[38;5;241m.\u001b[39m_data)\n",
      "File \u001b[1;32m~\\anaconda3\\Lib\\site-packages\\pymysql\\err.py:150\u001b[0m, in \u001b[0;36mraise_mysql_exception\u001b[1;34m(data)\u001b[0m\n\u001b[0;32m    148\u001b[0m \u001b[38;5;28;01mif\u001b[39;00m errorclass \u001b[38;5;129;01mis\u001b[39;00m \u001b[38;5;28;01mNone\u001b[39;00m:\n\u001b[0;32m    149\u001b[0m     errorclass \u001b[38;5;241m=\u001b[39m InternalError \u001b[38;5;28;01mif\u001b[39;00m errno \u001b[38;5;241m<\u001b[39m \u001b[38;5;241m1000\u001b[39m \u001b[38;5;28;01melse\u001b[39;00m OperationalError\n\u001b[1;32m--> 150\u001b[0m \u001b[38;5;28;01mraise\u001b[39;00m errorclass(errno, errval)\n",
      "\u001b[1;31mOperationalError\u001b[0m: (pymysql.err.OperationalError) (1054, \"Unknown column 'name' in 'field list'\")\n[SQL: INSERT INTO data_0 (id, name, email, age, balance, is_active, signup_date, last_login) VALUES (%(id)s, %(name)s, %(email)s, %(age)s, %(balance)s, %(is_active)s, %(signup_date)s, %(last_login)s)]\n[parameters: [{'id': 1, 'name': 'Amanda Aguilar', 'email': 'edward07@green.biz', 'age': 60.0, 'balance': 9126.82, 'is_active': 1, 'signup_date': '2021-11-04', 'last_login': None}, {'id': 2, 'name': 'Gregory Washington', 'email': None, 'age': 18.0, 'balance': 8899.89, 'is_active': 1, 'signup_date': '2025-09-11', 'last_login': None}, {'id': 3, 'name': 'Daniel Stephens', 'email': 'smithjennifer@hotmail.com', 'age': 42.0, 'balance': 9575.99, 'is_active': 1, 'signup_date': '2020-10-18', 'last_login': '2025-08-10 02:26:58'}, {'id': 4, 'name': 'Joshua Greene', 'email': 'jeremy90@gmail.com', 'age': 41.0, 'balance': 2516.23, 'is_active': 0, 'signup_date': '2020-04-13', 'last_login': None}, {'id': 5, 'name': 'Jason Matthews', 'email': 'andrea70@hotmail.com', 'age': 20.0, 'balance': 3162.78, 'is_active': 1, 'signup_date': '2020-09-05', 'last_login': '2025-06-16 20:57:04'}, {'id': 6, 'name': 'Scott Hopkins', 'email': 'lindseyhernandez@smith.com', 'age': 58.0, 'balance': 5185.98, 'is_active': 1, 'signup_date': '2022-11-16', 'last_login': '2025-03-26 21:09:22'}, {'id': 7, 'name': 'Stephanie Moore', 'email': 'brandyhoward@yahoo.com', 'age': 66.0, 'balance': 5900.47, 'is_active': 1, 'signup_date': '2020-10-20', 'last_login': '2025-04-09 20:12:47'}, {'id': 8, 'name': 'Alexandra Castillo', 'email': 'dawn90@yahoo.com', 'age': 73.0, 'balance': 5003.95, 'is_active': 1, 'signup_date': '2022-11-23', 'last_login': '2025-05-22 13:55:44'}  ... displaying 10 of 5000 total bound parameter sets ...  {'id': 4999, 'name': 'Jennifer Nelson', 'email': 'carterpaul@hardy-fields.info', 'age': 49.0, 'balance': 3662.93, 'is_active': 1, 'signup_date': '2025-10-11', 'last_login': '2025-08-07 19:31:24'}, {'id': 5000, 'name': 'Jennifer Valencia', 'email': 'ashleybrown@garcia.biz', 'age': 76.0, 'balance': 4026.09, 'is_active': 1, 'signup_date': None, 'last_login': '2025-07-28 12:44:09'}]]\n(Background on this error at: https://sqlalche.me/e/20/e3q8)"
     ]
    }
   ],
   "source": [
    "csv_folder = os.path.join(extract_path, \"csv\")\n",
    "\n",
    "for file in os.listdir(csv_folder):\n",
    "    if file.endswith(\".csv\"):\n",
    "        path = os.path.join(csv_folder, file)\n",
    "        table_name = os.path.splitext(file)[0]\n",
    "        \n",
    "        df = pd.read_csv(path)\n",
    "        if not df.empty:\n",
    "            df.to_sql(table_name, con=engine, index=False, if_exists='append')\n",
    "            with engine.connect() as conn:\n",
    "                count = conn.execute(text(f\"SELECT COUNT(*) FROM `{table_name}`\")).scalar()\n",
    "            print(f\"{file} → {table_name}: {len(df)} rows added (Total now: {count})\")\n",
    "        else:\n",
    "            print(f\"{file} is empty, skipped.\")"
   ]
  },
  {
   "cell_type": "code",
   "execution_count": 12,
   "id": "3f52b854",
   "metadata": {},
   "outputs": [
    {
     "name": "stdout",
     "output_type": "stream",
     "text": [
      "⚠️ Schema mismatch or column error in data_0: (pymysql.err.OperationalError) (1054, \"Unknown column 'created_at' in 'field list'\")\n",
      "[SQL: INSERT INTO data_0 (id, created_at, `user.name`, `user.email`, `user.tags`, `metrics.score`, `metrics.level`, `metrics.active`, `metadata.notes`, metadata) VALUES (%(id)s, %(created_at)s, %(user_name)s, %(user_email)s, %(user_tags)s, %(metrics_score)s, %(metrics_level)s, %(metrics_active)s, %(metadata_notes)s, %(metadata)s)]\n",
      "[parameters: [{'id': 309901, 'created_at': '2025-05-28 18:56:54', 'user_name': 'Ryan Fox', 'user_email': 'christine29@patterson.info', 'user_tags': '[\"want\", \"over\", \"write\"]', 'metrics_score': 72.41, 'metrics_level': 7, 'metrics_active': 1, 'metadata_notes': 'Window after right notice.', 'metadata': None}, {'id': 328229, 'created_at': '2025-06-12 06:14:02', 'user_name': 'Stacey Porter', 'user_email': 'hthompson@cruz-clark.net', 'user_tags': '[\"hope\", \"relate\", \"grow\", \"administration\", \"free\"]', 'metrics_score': 63.83, 'metrics_level': 3, 'metrics_active': None, 'metadata_notes': 'Past summer pay herself.', 'metadata': None}, {'id': 548312, 'created_at': '2025-06-03 06:06:18', 'user_name': 'Mr. Frank Fuentes', 'user_email': 'tammywhitehead@richards.info', 'user_tags': '[\"become\", \"huge\", \"nature\"]', 'metrics_score': 22.53, 'metrics_level': 10, 'metrics_active': 0, 'metadata_notes': 'Occur grow case someone offer.', 'metadata': None}, {'id': 451834, 'created_at': '2025-03-23 11:51:42', 'user_name': 'Amanda Lee', 'user_email': 'amanda56@estrada.com', 'user_tags': '[\"day\"]', 'metrics_score': 81.71, 'metrics_level': 4, 'metrics_active': None, 'metadata_notes': 'Very two help president discuss possible.', 'metadata': None}, {'id': 516005, 'created_at': '2025-06-19 14:30:36', 'user_name': 'Rodney Moore', 'user_email': 'margaretfrey@walker.biz', 'user_tags': '[\"across\", \"mouth\", \"indeed\", \"computer\", \"standard\"]', 'metrics_score': 90.64, 'metrics_level': 10, 'metrics_active': 0, 'metadata_notes': 'Son describe those be we keep.', 'metadata': None}, {'id': 361791, 'created_at': '2025-10-02 09:25:02', 'user_name': 'John Maldonado', 'user_email': 'johnsonjamie@hayes-ford.net', 'user_tags': '[\"film\", \"heavy\", \"material\"]', 'metrics_score': 17.93, 'metrics_level': 3, 'metrics_active': 0, 'metadata_notes': None, 'metadata': None}, {'id': 196162, 'created_at': '2025-01-21 04:24:58', 'user_name': 'Mrs. Margaret Russell', 'user_email': 'lmendoza@williams.net', 'user_tags': '[\"so\", \"current\", \"prevent\"]', 'metrics_score': 66.25, 'metrics_level': 8, 'metrics_active': None, 'metadata_notes': 'He question learn language special.', 'metadata': None}, {'id': 883429, 'created_at': '2025-05-02 23:11:10', 'user_name': 'Lisa Sanchez', 'user_email': 'brianhorn@nichols-hoffman.com', 'user_tags': '[\"news\", \"weight\", \"grow\", \"affect\"]', 'metrics_score': 31.98, 'metrics_level': 2, 'metrics_active': 0, 'metadata_notes': 'Approach might must set among simple even exist.', 'metadata': None}  ... displaying 10 of 5000 total bound parameter sets ...  {'id': 746303, 'created_at': '2025-06-14 02:34:26', 'user_name': 'David Montgomery', 'user_email': 'morgan04@evans-barton.com', 'user_tags': '[\"population\", \"direction\", \"rate\"]', 'metrics_score': 80.08, 'metrics_level': 7, 'metrics_active': 0, 'metadata_notes': 'Focus black per participant attention wind truth local.', 'metadata': None}, {'id': 838769, 'created_at': '2025-05-08 12:51:46', 'user_name': 'Nathan Campos', 'user_email': 'jamiedouglas@johnson.com', 'user_tags': '[\"training\", \"open\", \"side\"]', 'metrics_score': 43.03, 'metrics_level': 3, 'metrics_active': 1, 'metadata_notes': None, 'metadata': None}]]\n",
      "(Background on this error at: https://sqlalche.me/e/20/e3q8)\n",
      "✅ data_0.json → data_0 recreated successfully.\n",
      "📦 data_0.json → data_0: 5000 rows added (Total now: 5000)\n",
      "⚠️ Schema mismatch or column error in data_1: (pymysql.err.OperationalError) (1054, \"Unknown column 'created_at' in 'field list'\")\n",
      "[SQL: INSERT INTO data_1 (id, created_at, `user.name`, `user.email`, `user.tags`, `metrics.score`, `metrics.level`, `metrics.active`, `metadata.notes`, metadata) VALUES (%(id)s, %(created_at)s, %(user_name)s, %(user_email)s, %(user_tags)s, %(metrics_score)s, %(metrics_level)s, %(metrics_active)s, %(metadata_notes)s, %(metadata)s)]\n",
      "[parameters: [{'id': 423084, 'created_at': '2025-05-29 01:37:19', 'user_name': 'Lynn Wright MD', 'user_email': 'melissastone@hotmail.com', 'user_tags': '[\"some\", \"father\", \"cell\", \"several\"]', 'metrics_score': 26.01, 'metrics_level': 2, 'metrics_active': 0, 'metadata_notes': 'Tonight physical practice security.', 'metadata': None}, {'id': 728981, 'created_at': '2025-09-16 06:28:15', 'user_name': 'Felicia James', 'user_email': 'martinvillanueva@gmail.com', 'user_tags': '[\"relate\", \"middle\", \"pick\", \"child\"]', 'metrics_score': 40.16, 'metrics_level': 6, 'metrics_active': 0, 'metadata_notes': 'Hour media position hour air.', 'metadata': None}, {'id': 57306, 'created_at': '2025-09-26 23:13:42', 'user_name': 'Destiny Zimmerman', 'user_email': 'rebeccamartinez@hotmail.com', 'user_tags': '[\"us\", \"suddenly\", \"either\"]', 'metrics_score': 56.97, 'metrics_level': 9, 'metrics_active': 1, 'metadata_notes': 'Activity example look color list our cut.', 'metadata': None}, {'id': 900452, 'created_at': '2025-10-07 05:22:41', 'user_name': 'Cory Schmidt', 'user_email': 'keithchristian@clarke.com', 'user_tags': '[\"sit\", \"will\", \"force\", \"fill\", \"fly\"]', 'metrics_score': 9.09, 'metrics_level': 8, 'metrics_active': None, 'metadata_notes': None, 'metadata': None}, {'id': 97290, 'created_at': '2025-02-19 06:19:26', 'user_name': 'Richard Rowe', 'user_email': 'rmeyer@gordon.info', 'user_tags': '[\"remain\", \"east\", \"help\", \"would\", \"event\"]', 'metrics_score': 84.38, 'metrics_level': 6, 'metrics_active': None, 'metadata_notes': 'Anything sound itself political.', 'metadata': None}, {'id': 252283, 'created_at': '2025-09-11 15:05:22', 'user_name': 'Erica Cruz', 'user_email': 'christinahunt@rogers.biz', 'user_tags': '[\"change\", \"spring\", \"among\", \"it\"]', 'metrics_score': 52.34, 'metrics_level': 4, 'metrics_active': None, 'metadata_notes': 'Second news cell east general action ball article.', 'metadata': None}, {'id': 769998, 'created_at': '2025-07-27 09:01:03', 'user_name': 'Tanner Gonzalez', 'user_email': 'wrodriguez@yahoo.com', 'user_tags': '[\"reduce\", \"religious\", \"kind\", \"later\", \"standard\"]', 'metrics_score': 31.83, 'metrics_level': 2, 'metrics_active': 1, 'metadata_notes': 'Forward anything story everybody exactly leave total.', 'metadata': None}, {'id': 926222, 'created_at': '2025-06-01 07:38:25', 'user_name': 'Alexandra Bryant', 'user_email': 'fmarks@yahoo.com', 'user_tags': '[\"able\", \"early\", \"might\"]', 'metrics_score': 72.3, 'metrics_level': 9, 'metrics_active': 1, 'metadata_notes': 'Onto important word pay teach.', 'metadata': None}  ... displaying 10 of 5000 total bound parameter sets ...  {'id': 541972, 'created_at': '2025-03-13 12:09:54', 'user_name': 'Joseph Scott', 'user_email': 'deborah62@hotmail.com', 'user_tags': '[\"down\", \"current\", \"election\", \"pressure\", \"recent\"]', 'metrics_score': 73.1, 'metrics_level': 1, 'metrics_active': 0, 'metadata_notes': 'Eye somebody wish avoid.', 'metadata': None}, {'id': 678482, 'created_at': '2025-03-08 12:15:51', 'user_name': 'Luis Mata', 'user_email': 'xwilson@hotmail.com', 'user_tags': '[\"maintain\", \"star\", \"write\", \"hit\"]', 'metrics_score': 94.71, 'metrics_level': 9, 'metrics_active': None, 'metadata_notes': 'Laugh concern small energy behavior health lot.', 'metadata': None}]]\n",
      "(Background on this error at: https://sqlalche.me/e/20/e3q8)\n",
      "✅ data_1.json → data_1 recreated successfully.\n",
      "📦 data_1.json → data_1: 5000 rows added (Total now: 5000)\n"
     ]
    }
   ],
   "source": [
    "json_folder = os.path.join(extract_path, \"json\")\n",
    "\n",
    "for file in os.listdir(json_folder):\n",
    "    if file.endswith(\".json\"):\n",
    "        path = os.path.join(json_folder, file)\n",
    "        table_name = os.path.splitext(file)[0]\n",
    "\n",
    "        with open(path, 'r') as f:\n",
    "            data = json.load(f)\n",
    "        df = pd.json_normalize(data)\n",
    "\n",
    "        # Convert nested fields\n",
    "        for col in df.columns:\n",
    "            df[col] = df[col].apply(lambda x: json.dumps(x) if isinstance(x, (list, dict)) else x)\n",
    "\n",
    "        if df.empty:\n",
    "            print(f\"{file} is empty, skipped.\")\n",
    "            continue\n",
    "\n",
    "        # Try appending; recreate on schema mismatch\n",
    "        try:\n",
    "            df.to_sql(table_name, con=engine, index=False, if_exists='append')\n",
    "        except Exception as e:\n",
    "            print(f\" Schema mismatch or column error in {table_name}: {e}\")\n",
    "            df.to_sql(table_name, con=engine, index=False, if_exists='replace')\n",
    "            print(f\"{file} → {table_name} recreated successfully.\")\n",
    "\n",
    "        with engine.connect() as conn:\n",
    "            count = conn.execute(text(f\"SELECT COUNT(*) FROM `{table_name}`\")).scalar()\n",
    "        print(f\"{file} → {table_name}: {len(df)} rows added (Total now: {count})\")\n"
   ]
  },
  {
   "cell_type": "code",
   "execution_count": 13,
   "id": "75b2d430",
   "metadata": {
    "scrolled": false
   },
   "outputs": [
    {
     "name": "stdout",
     "output_type": "stream",
     "text": [
      "✅ data_0.txt → text_files: 105 chunks inserted.\n",
      "✅ data_1.txt → text_files: 105 chunks inserted.\n"
     ]
    }
   ],
   "source": [
    "text_folder = os.path.join(extract_path, \"text\")\n",
    "\n",
    "# Ensure table exists\n",
    "with engine.begin() as conn:\n",
    "    conn.execute(text(\"\"\"\n",
    "        CREATE TABLE IF NOT EXISTS text_files (\n",
    "            id INT AUTO_INCREMENT PRIMARY KEY,\n",
    "            file_name VARCHAR(255),\n",
    "            content LONGTEXT\n",
    "        )\n",
    "    \"\"\"))\n",
    "\n",
    "\n",
    "with engine.begin() as conn:\n",
    "    for file in os.listdir(text_folder):\n",
    "        if file.endswith((\".txt\", \".log\")):\n",
    "            path = os.path.join(text_folder, file)\n",
    "            with open(path, 'r', encoding='utf-8') as f:\n",
    "                content = f.read()\n",
    "\n",
    "            chunk_size = 50000\n",
    "            inserted_rows = 0\n",
    "            for i in range(0, len(content), chunk_size):\n",
    "                chunk = content[i:i + chunk_size]\n",
    "                stmt = text(\"INSERT INTO text_files (file_name, content) VALUES (:file_name, :content)\")\n",
    "                conn.execute(stmt, {\"file_name\": file, \"content\": chunk})\n",
    "                inserted_rows += 1\n",
    "\n",
    "            print(f\"{file} → text_files: {inserted_rows} chunks inserted.\")\n"
   ]
  },
  {
   "cell_type": "code",
   "execution_count": 14,
   "id": "405b2ff2",
   "metadata": {},
   "outputs": [
    {
     "name": "stdout",
     "output_type": "stream",
     "text": [
      "✅ data_0.txt → urls: 5000 rows added (Total now: 5000)\n"
     ]
    }
   ],
   "source": [
    "urls_folder = os.path.join(extract_path, \"urls\")\n",
    "\n",
    "\n",
    "with engine.begin() as conn:\n",
    "    conn.execute(text(\"\"\"\n",
    "        CREATE TABLE IF NOT EXISTS urls (\n",
    "            id INT AUTO_INCREMENT PRIMARY KEY,\n",
    "            file_name VARCHAR(255),\n",
    "            url TEXT\n",
    "        )\n",
    "    \"\"\"))\n",
    "\n",
    "for file in os.listdir(urls_folder):\n",
    "    path = os.path.join(urls_folder, file)\n",
    "    with open(path, 'r', encoding='utf-8') as f:\n",
    "        lines = [l.strip() for l in f if l.strip()]\n",
    "\n",
    "    if lines:\n",
    "        df = pd.DataFrame({\"file_name\": [file]*len(lines), \"url\": lines})\n",
    "        df.to_sql(\"urls\", con=engine, index=False, if_exists='append')\n",
    "\n",
    "        with engine.connect() as conn:\n",
    "            count = conn.execute(text(\"SELECT COUNT(*) FROM urls\")).scalar()\n",
    "        print(f\"{file} → urls: {len(lines)} rows added (Total now: {count})\")\n",
    "    else:\n",
    "        print(f\" {file} is empty, skipped.\")\n"
   ]
  },
  {
   "cell_type": "code",
   "execution_count": 16,
   "id": "5b080d63",
   "metadata": {},
   "outputs": [
    {
     "name": "stdout",
     "output_type": "stream",
     "text": [
      "📋 Tables in database:\n"
     ]
    },
    {
     "data": {
      "text/html": [
       "<div>\n",
       "<style scoped>\n",
       "    .dataframe tbody tr th:only-of-type {\n",
       "        vertical-align: middle;\n",
       "    }\n",
       "\n",
       "    .dataframe tbody tr th {\n",
       "        vertical-align: top;\n",
       "    }\n",
       "\n",
       "    .dataframe thead th {\n",
       "        text-align: right;\n",
       "    }\n",
       "</style>\n",
       "<table border=\"1\" class=\"dataframe\">\n",
       "  <thead>\n",
       "    <tr style=\"text-align: right;\">\n",
       "      <th></th>\n",
       "      <th>Tables_in_randommigration</th>\n",
       "    </tr>\n",
       "  </thead>\n",
       "  <tbody>\n",
       "    <tr>\n",
       "      <th>0</th>\n",
       "      <td>data_0</td>\n",
       "    </tr>\n",
       "    <tr>\n",
       "      <th>1</th>\n",
       "      <td>data_1</td>\n",
       "    </tr>\n",
       "    <tr>\n",
       "      <th>2</th>\n",
       "      <td>text_files</td>\n",
       "    </tr>\n",
       "    <tr>\n",
       "      <th>3</th>\n",
       "      <td>urls</td>\n",
       "    </tr>\n",
       "  </tbody>\n",
       "</table>\n",
       "</div>"
      ],
      "text/plain": [
       "  Tables_in_randommigration\n",
       "0                    data_0\n",
       "1                    data_1\n",
       "2                text_files\n",
       "3                      urls"
      ]
     },
     "metadata": {},
     "output_type": "display_data"
    }
   ],
   "source": [
    "tables = pd.read_sql(\"SHOW TABLES;\", engine)\n",
    "print(\"📋 Tables in database:\")\n",
    "display(tables)\n"
   ]
  },
  {
   "cell_type": "code",
   "execution_count": 17,
   "id": "9ed5ff11",
   "metadata": {},
   "outputs": [
    {
     "name": "stdout",
     "output_type": "stream",
     "text": [
      "data_0: 5000 rows\n",
      "data_1: 5000 rows\n",
      "text_files: 210 rows\n",
      "urls: 5000 rows\n"
     ]
    }
   ],
   "source": [
    "with engine.connect() as conn:\n",
    "    for (table,) in conn.execute(text(\"SHOW TABLES\")).fetchall():\n",
    "        count = conn.execute(text(f\"SELECT COUNT(*) FROM `{table}`\")).scalar()\n",
    "        print(f\"{table}: {count} rows\")\n"
   ]
  }
 ],
 "metadata": {
  "kernelspec": {
   "display_name": "Python 3 (ipykernel)",
   "language": "python",
   "name": "python3"
  },
  "language_info": {
   "codemirror_mode": {
    "name": "ipython",
    "version": 3
   },
   "file_extension": ".py",
   "mimetype": "text/x-python",
   "name": "python",
   "nbconvert_exporter": "python",
   "pygments_lexer": "ipython3",
   "version": "3.11.5"
  }
 },
 "nbformat": 4,
 "nbformat_minor": 5
}
